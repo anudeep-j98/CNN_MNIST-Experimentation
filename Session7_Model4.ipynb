{
  "nbformat": 4,
  "nbformat_minor": 0,
  "metadata": {
    "colab": {
      "provenance": [],
      "gpuType": "T4"
    },
    "kernelspec": {
      "name": "python3",
      "display_name": "Python 3"
    },
    "language_info": {
      "name": "python"
    },
    "accelerator": "GPU",
    "gpuClass": "standard"
  },
  "cells": [
    {
      "cell_type": "markdown",
      "source": [
        "CODE BLOCK: 1"
      ],
      "metadata": {
        "id": "n09vaEgP6pLj"
      }
    },
    {
      "cell_type": "code",
      "execution_count": 1,
      "metadata": {
        "id": "6PlbomWY3RSq"
      },
      "outputs": [],
      "source": [
        "import torch\n",
        "import torch.nn as nn\n",
        "import torch.nn.functional as F\n",
        "import torch.optim as optim\n",
        "from torchvision import datasets, transforms"
      ]
    },
    {
      "cell_type": "markdown",
      "source": [
        "CODE BLOCK: 2"
      ],
      "metadata": {
        "id": "VjBHHQVA6sXt"
      }
    },
    {
      "cell_type": "code",
      "source": [
        "# CUDA?\n",
        "cuda = torch.cuda.is_available()\n",
        "print(\"CUDA Available?\", cuda)"
      ],
      "metadata": {
        "colab": {
          "base_uri": "https://localhost:8080/"
        },
        "id": "94BxVVBP3WwS",
        "outputId": "8ea1fe1c-eed8-4ddd-86f8-dce252a0e086"
      },
      "execution_count": 2,
      "outputs": [
        {
          "output_type": "stream",
          "name": "stdout",
          "text": [
            "CUDA Available? True\n"
          ]
        }
      ]
    },
    {
      "cell_type": "markdown",
      "source": [
        "CODE BLOCK: 3"
      ],
      "metadata": {
        "id": "3UHq59Sw6tmW"
      }
    },
    {
      "cell_type": "code",
      "source": [
        "# Train Phase transformations\n",
        "train_transforms = transforms.Compose([\n",
        "                                       transforms.Resize((28, 28)),\n",
        "                                       transforms.ColorJitter(brightness=0.10, contrast=0.1, saturation=0.10, hue=0.1),\n",
        "                                       transforms.RandomRotation((-15.0, 15.0), fill=(1,)),\n",
        "                                       transforms.RandomPerspective(distortion_scale=0.1, p=0.5),\n",
        "                                       transforms.ToTensor(),\n",
        "                                       transforms.RandomErasing(p=0.1),\n",
        "                                       transforms.Normalize((0.1307,), (0.3081,))\n",
        "                                       ])\n",
        "\n",
        "# Test Phase transformations\n",
        "test_transforms = transforms.Compose([\n",
        "                                       transforms.Resize((28, 28)),\n",
        "                                       transforms.ToTensor(),\n",
        "                                       transforms.Normalize((0.1307,), (0.3081,))\n",
        "                                       ])\n",
        "train = datasets.MNIST('./data', train=True, download=True, transform=train_transforms)\n",
        "test = datasets.MNIST('./data', train=False, download=True, transform=test_transforms)"
      ],
      "metadata": {
        "id": "KpshQ2Ug38m2"
      },
      "execution_count": 30,
      "outputs": []
    },
    {
      "cell_type": "code",
      "source": [
        "SEED = 1\n",
        "batch_size = 64\n",
        "# CUDA?\n",
        "cuda = torch.cuda.is_available()\n",
        "print(\"CUDA Available?\", cuda)\n",
        "\n",
        "# For reproducibility\n",
        "torch.manual_seed(SEED)\n",
        "\n",
        "if cuda:\n",
        "    torch.cuda.manual_seed(SEED)\n",
        "\n",
        "# dataloader arguments - something you'll fetch these from cmdprmt\n",
        "dataloader_args = dict(shuffle=True, batch_size=batch_size, num_workers=4, pin_memory=True) if cuda else dict(shuffle=True, batch_size=64)\n",
        "\n",
        "# train dataloader\n",
        "train_loader = torch.utils.data.DataLoader(train, **dataloader_args)\n",
        "\n",
        "# test dataloader\n",
        "test_loader = torch.utils.data.DataLoader(test, **dataloader_args)"
      ],
      "metadata": {
        "colab": {
          "base_uri": "https://localhost:8080/"
        },
        "id": "DoWu5e3HTwLH",
        "outputId": "fdd3662d-0fe8-4e68-ad94-8fa72bacc330"
      },
      "execution_count": 32,
      "outputs": [
        {
          "output_type": "stream",
          "name": "stdout",
          "text": [
            "CUDA Available? True\n"
          ]
        }
      ]
    },
    {
      "cell_type": "code",
      "source": [
        "import matplotlib.pyplot as plt\n",
        "\n",
        "batch_data, batch_label = next(iter(train_loader))\n",
        "\n",
        "fig = plt.figure()\n",
        "\n",
        "for i in range(12):\n",
        "  plt.subplot(3,4,i+1)\n",
        "  plt.tight_layout()\n",
        "  plt.imshow(batch_data[i].squeeze(0), cmap='gray')\n",
        "  plt.title(batch_label[i].item())\n",
        "  plt.xticks([])\n",
        "  plt.yticks([])"
      ],
      "metadata": {
        "colab": {
          "base_uri": "https://localhost:8080/",
          "height": 463
        },
        "id": "9yMDGNQkn3kR",
        "outputId": "14db0989-e6c9-4f01-9651-417181823ecf"
      },
      "execution_count": 33,
      "outputs": [
        {
          "output_type": "display_data",
          "data": {
            "text/plain": [
              "<Figure size 640x480 with 12 Axes>"
            ],
            "image/png": "[encoded data removed]"
          },
          "metadata": {}
        }
      ]
    },
    {
      "cell_type": "markdown",
      "source": [
        "CODE BLOCK: 7"
      ],
      "metadata": {
        "id": "y3XbVJSb7Aee"
      }
    },
    {
      "cell_type": "code",
      "source": [
        "dropout_value = 0.1\n",
        "class Net(nn.Module):\n",
        "    def __init__(self):\n",
        "        super(Net, self).__init__()\n",
        "        self.conv1 = nn.Sequential(\n",
        "            nn.Conv2d(1, 12, 3),\n",
        "            nn.ReLU(),\n",
        "            nn.BatchNorm2d(12),\n",
        "            nn.Dropout(dropout_value),\n",
        "            nn.Conv2d(12, 12, 3),\n",
        "            nn.ReLU(),\n",
        "            nn.BatchNorm2d(12),\n",
        "            nn.Dropout(dropout_value),\n",
        "            nn.MaxPool2d(2, 2),\n",
        "            nn.ReLU(),\n",
        "            nn.Dropout(dropout_value)\n",
        "        )\n",
        "\n",
        "        self.conv2 = nn.Sequential(\n",
        "            nn.Conv2d(12, 15, 3),\n",
        "            nn.ReLU(),\n",
        "            nn.BatchNorm2d(15),\n",
        "            nn.Dropout(dropout_value),\n",
        "            nn.Conv2d(15, 20, 3),\n",
        "            nn.ReLU(),\n",
        "            nn.BatchNorm2d(20),\n",
        "            nn.Dropout(dropout_value),\n",
        "            nn.MaxPool2d(2, 2),\n",
        "            nn.ReLU(),\n",
        "            nn.Dropout(dropout_value)\n",
        "        )\n",
        "\n",
        "        self.conv3 = nn.Sequential(\n",
        "            nn.Conv2d(20, 10, 3),\n",
        "            nn.BatchNorm2d(10)\n",
        "        )\n",
        "        self.gap = nn.AvgPool2d(2)\n",
        "\n",
        "    def forward(self, x):\n",
        "        x = self.conv1(x)\n",
        "        x = self.conv2(x)\n",
        "        x = self.conv3(x)\n",
        "        x = self.gap(x)\n",
        "        x = x.flatten().view(-1, 10)\n",
        "        x = F.log_softmax(x, dim=1)\n",
        "        return x"
      ],
      "metadata": {
        "id": "UHBolvMH4F8y"
      },
      "execution_count": 39,
      "outputs": []
    },
    {
      "cell_type": "markdown",
      "source": [
        "| Layer                         | Rin  | Rout | Jin  | Jout |\n",
        "|-------------------------------|-------|------|------|------|\n",
        "| **Input Image (28x28)**       | 1     | 1    | 1    | 1    |\n",
        "| **Conv Block 1**              |       |      |      |      |\n",
        "| Conv2d(1, 10, K=3, P=0, S=1)  | 1     | 3    | 1    | 1    |\n",
        "| Conv2d(10, 12, K=3, P=0, S=1) | 3     | 5    | 1    | 1    |\n",
        "| MaxPool2d(K=2, S=2)           | 5     | 6    | 1    | 2    |\n",
        "| **Conv Block 2**              |       |      |      |      |\n",
        "| Conv2d(12, 16, K=3, P=0, S=1) | 6     | 10   | 2    | 2    |\n",
        "| Conv2d(16, 20, K=3, P=0, S=1) | 10    | 14   | 2    | 2    |\n",
        "| MaxPool2d(K=2, S=2)           | 14    | 16   | 2    | 4    |\n",
        "| **Conv Block 3**              |       |      |      |      |\n",
        "| Conv2d(20, 10, K=3, P=0, S=1) | 16    | 24   | 4    | 4    |\n",
        "| AvgPool2d(K=2, S=2)           | 24    | 26   | 4    | 8    |\n",
        "| **GAP (Global Avg Pool)**     | 26    | Full | 8    | -    |\n"
      ],
      "metadata": {
        "id": "2ECsAD0yYCcQ"
      }
    },
    {
      "cell_type": "code",
      "source": [
        "from torchsummary import summary\n",
        "\n",
        "device = torch.device(\"cuda\" if torch.cuda.is_available() else \"cpu\")\n",
        "model = Net().to(device)\n",
        "summary(model, input_size=(1, 28, 28))"
      ],
      "metadata": {
        "colab": {
          "base_uri": "https://localhost:8080/"
        },
        "id": "6YfIUBxdR4im",
        "outputId": "1277fb8e-91d8-4a4b-ad2b-6e38b50186d2"
      },
      "execution_count": 40,
      "outputs": [
        {
          "output_type": "stream",
          "name": "stdout",
          "text": [
            "----------------------------------------------------------------\n",
            "        Layer (type)               Output Shape         Param #\n",
            "================================================================\n",
            "            Conv2d-1           [-1, 12, 26, 26]             120\n",
            "              ReLU-2           [-1, 12, 26, 26]               0\n",
            "       BatchNorm2d-3           [-1, 12, 26, 26]              24\n",
            "           Dropout-4           [-1, 12, 26, 26]               0\n",
            "            Conv2d-5           [-1, 12, 24, 24]           1,308\n",
            "              ReLU-6           [-1, 12, 24, 24]               0\n",
            "       BatchNorm2d-7           [-1, 12, 24, 24]              24\n",
            "           Dropout-8           [-1, 12, 24, 24]               0\n",
            "         MaxPool2d-9           [-1, 12, 12, 12]               0\n",
            "             ReLU-10           [-1, 12, 12, 12]               0\n",
            "          Dropout-11           [-1, 12, 12, 12]               0\n",
            "           Conv2d-12           [-1, 15, 10, 10]           1,635\n",
            "             ReLU-13           [-1, 15, 10, 10]               0\n",
            "      BatchNorm2d-14           [-1, 15, 10, 10]              30\n",
            "          Dropout-15           [-1, 15, 10, 10]               0\n",
            "           Conv2d-16             [-1, 20, 8, 8]           2,720\n",
            "             ReLU-17             [-1, 20, 8, 8]               0\n",
            "      BatchNorm2d-18             [-1, 20, 8, 8]              40\n",
            "          Dropout-19             [-1, 20, 8, 8]               0\n",
            "        MaxPool2d-20             [-1, 20, 4, 4]               0\n",
            "             ReLU-21             [-1, 20, 4, 4]               0\n",
            "          Dropout-22             [-1, 20, 4, 4]               0\n",
            "           Conv2d-23             [-1, 10, 2, 2]           1,810\n",
            "      BatchNorm2d-24             [-1, 10, 2, 2]              20\n",
            "        AvgPool2d-25             [-1, 10, 1, 1]               0\n",
            "================================================================\n",
            "Total params: 7,731\n",
            "Trainable params: 7,731\n",
            "Non-trainable params: 0\n",
            "----------------------------------------------------------------\n",
            "Input size (MB): 0.00\n",
            "Forward/backward pass size (MB): 0.59\n",
            "Params size (MB): 0.03\n",
            "Estimated Total Size (MB): 0.62\n",
            "----------------------------------------------------------------\n"
          ]
        }
      ]
    },
    {
      "cell_type": "markdown",
      "source": [
        "CODE BLOCK: 8"
      ],
      "metadata": {
        "id": "89gd4_s7AO2y"
      }
    },
    {
      "cell_type": "code",
      "source": [
        "# Data to plot accuracy and loss graphs\n",
        "train_losses = []\n",
        "test_losses = []\n",
        "train_acc = []\n",
        "test_acc = []\n",
        "\n",
        "test_incorrect_pred = {'images': [], 'ground_truths': [], 'predicted_vals': []}"
      ],
      "metadata": {
        "id": "7du4zM474LvT"
      },
      "execution_count": 41,
      "outputs": []
    },
    {
      "cell_type": "markdown",
      "source": [
        "CODE BLOCK: 9"
      ],
      "metadata": {
        "id": "kCwIPHqwAQgB"
      }
    },
    {
      "cell_type": "code",
      "source": [
        "from tqdm import tqdm\n",
        "\n",
        "def GetCorrectPredCount(pPrediction, pLabels):\n",
        "  return pPrediction.argmax(dim=1).eq(pLabels).sum().item()\n",
        "\n",
        "def train(model, device, train_loader, optimizer, criterion):\n",
        "  model.train()\n",
        "  pbar = tqdm(train_loader)\n",
        "\n",
        "  train_loss = 0\n",
        "  correct = 0\n",
        "  processed = 0\n",
        "\n",
        "  for batch_idx, (data, target) in enumerate(pbar):\n",
        "    data, target = data.to(device), target.to(device)\n",
        "    optimizer.zero_grad()\n",
        "\n",
        "    # Predict\n",
        "    pred = model(data)\n",
        "\n",
        "    # Calculate loss\n",
        "    loss = criterion(pred,  target.squeeze())\n",
        "    train_loss+=loss.item()\n",
        "\n",
        "    # Backpropagation\n",
        "    loss.backward()\n",
        "    optimizer.step()\n",
        "\n",
        "    correct += GetCorrectPredCount(pred, target)\n",
        "    processed += len(data)\n",
        "\n",
        "    pbar.set_description(desc= f'Train: Loss={loss.item():0.4f} Batch_id={batch_idx} Accuracy={100*correct/processed:0.2f}')\n",
        "\n",
        "  train_acc.append(100*correct/processed)\n",
        "  train_losses.append(train_loss/len(train_loader))\n",
        "\n",
        "def test(model, device, test_loader, criterion):\n",
        "    model.eval()\n",
        "\n",
        "    test_loss = 0\n",
        "    correct = 0\n",
        "\n",
        "    with torch.no_grad():\n",
        "        for batch_idx, (data, target) in enumerate(test_loader):\n",
        "            data, target = data.to(device), target.to(device)\n",
        "\n",
        "            output = model(data)\n",
        "            test_loss += criterion(output, target).item()  # sum up batch loss\n",
        "\n",
        "            correct += GetCorrectPredCount(output, target)\n",
        "\n",
        "\n",
        "    test_loss /= len(test_loader.dataset)\n",
        "    test_acc.append(100. * correct / len(test_loader.dataset))\n",
        "    test_losses.append(test_loss)\n",
        "\n",
        "    print('Test set: Average loss: {:.4f}, Accuracy: {}/{} ({:.2f}%)\\n'.format(\n",
        "        test_loss, correct, len(test_loader.dataset),\n",
        "        100. * correct / len(test_loader.dataset)))\n"
      ],
      "metadata": {
        "id": "gpNw3-sy4QGd"
      },
      "execution_count": 42,
      "outputs": []
    },
    {
      "cell_type": "markdown",
      "source": [
        "CODE BLOCK: 10"
      ],
      "metadata": {
        "id": "09GYKBGRAT5M"
      }
    },
    {
      "cell_type": "code",
      "source": [
        "model = Net().to(device)\n",
        "optimizer = optim.SGD(model.parameters(), lr=0.15, momentum=0.9)\n",
        "scheduler = optim.lr_scheduler.StepLR(optimizer, step_size=5, gamma=0.5, verbose=True)\n",
        "\n",
        "# New Line\n",
        "criterion = nn.CrossEntropyLoss()\n",
        "num_epochs = 20\n",
        "\n",
        "for epoch in range(1, num_epochs+1):\n",
        "  print(f'Epoch {epoch}')\n",
        "  train(model, device, train_loader, optimizer, criterion)\n",
        "  test(model, device, test_loader, criterion)\n",
        "  scheduler.step()\n",
        "  current_lr = optimizer.param_groups[0]['lr']\n",
        "  print(f'Learning Rate after epoch {epoch}: {current_lr}')"
      ],
      "metadata": {
        "colab": {
          "base_uri": "https://localhost:8080/"
        },
        "id": "Owqiet9M4TV7",
        "outputId": "b569e3c5-b0cd-4e6d-e3a0-7a8104ef98e9"
      },
      "execution_count": 43,
      "outputs": [
        {
          "output_type": "stream",
          "name": "stdout",
          "text": [
            "Epoch 1\n"
          ]
        },
        {
          "output_type": "stream",
          "name": "stderr",
          "text": [
            "Train: Loss=0.3806 Batch_id=937 Accuracy=92.08: 100%|██████████| 938/938 [00:53<00:00, 17.40it/s]\n"
          ]
        },
        {
          "output_type": "stream",
          "name": "stdout",
          "text": [
            "Test set: Average loss: 0.0008, Accuracy: 9860/10000 (98.60%)\n",
            "\n",
            "Learning Rate after epoch 1: 0.15\n",
            "Epoch 2\n"
          ]
        },
        {
          "output_type": "stream",
          "name": "stderr",
          "text": [
            "Train: Loss=0.1717 Batch_id=937 Accuracy=94.72: 100%|██████████| 938/938 [00:53<00:00, 17.38it/s]\n"
          ]
        },
        {
          "output_type": "stream",
          "name": "stdout",
          "text": [
            "Test set: Average loss: 0.0006, Accuracy: 9892/10000 (98.92%)\n",
            "\n",
            "Learning Rate after epoch 2: 0.15\n",
            "Epoch 3\n"
          ]
        },
        {
          "output_type": "stream",
          "name": "stderr",
          "text": [
            "Train: Loss=0.2330 Batch_id=937 Accuracy=95.30: 100%|██████████| 938/938 [00:55<00:00, 16.93it/s]\n"
          ]
        },
        {
          "output_type": "stream",
          "name": "stdout",
          "text": [
            "Test set: Average loss: 0.0006, Accuracy: 9899/10000 (98.99%)\n",
            "\n",
            "Learning Rate after epoch 3: 0.15\n",
            "Epoch 4\n"
          ]
        },
        {
          "output_type": "stream",
          "name": "stderr",
          "text": [
            "Train: Loss=0.0342 Batch_id=937 Accuracy=95.80: 100%|██████████| 938/938 [00:54<00:00, 17.14it/s]\n"
          ]
        },
        {
          "output_type": "stream",
          "name": "stdout",
          "text": [
            "Test set: Average loss: 0.0005, Accuracy: 9914/10000 (99.14%)\n",
            "\n",
            "Learning Rate after epoch 4: 0.15\n",
            "Epoch 5\n"
          ]
        },
        {
          "output_type": "stream",
          "name": "stderr",
          "text": [
            "Train: Loss=0.0754 Batch_id=937 Accuracy=96.00: 100%|██████████| 938/938 [00:55<00:00, 17.01it/s]\n"
          ]
        },
        {
          "output_type": "stream",
          "name": "stdout",
          "text": [
            "Test set: Average loss: 0.0004, Accuracy: 9921/10000 (99.21%)\n",
            "\n",
            "Learning Rate after epoch 5: 0.075\n",
            "Epoch 6\n"
          ]
        },
        {
          "output_type": "stream",
          "name": "stderr",
          "text": [
            "Train: Loss=0.2253 Batch_id=937 Accuracy=96.29: 100%|██████████| 938/938 [00:56<00:00, 16.74it/s]\n"
          ]
        },
        {
          "output_type": "stream",
          "name": "stdout",
          "text": [
            "Test set: Average loss: 0.0004, Accuracy: 9935/10000 (99.35%)\n",
            "\n",
            "Learning Rate after epoch 6: 0.075\n",
            "Epoch 7\n"
          ]
        },
        {
          "output_type": "stream",
          "name": "stderr",
          "text": [
            "Train: Loss=0.1691 Batch_id=937 Accuracy=96.47: 100%|██████████| 938/938 [00:54<00:00, 17.26it/s]\n"
          ]
        },
        {
          "output_type": "stream",
          "name": "stdout",
          "text": [
            "Test set: Average loss: 0.0004, Accuracy: 9935/10000 (99.35%)\n",
            "\n",
            "Learning Rate after epoch 7: 0.075\n",
            "Epoch 8\n"
          ]
        },
        {
          "output_type": "stream",
          "name": "stderr",
          "text": [
            "Train: Loss=0.2425 Batch_id=937 Accuracy=96.44: 100%|██████████| 938/938 [00:54<00:00, 17.09it/s]\n"
          ]
        },
        {
          "output_type": "stream",
          "name": "stdout",
          "text": [
            "Test set: Average loss: 0.0004, Accuracy: 9930/10000 (99.30%)\n",
            "\n",
            "Learning Rate after epoch 8: 0.075\n",
            "Epoch 9\n"
          ]
        },
        {
          "output_type": "stream",
          "name": "stderr",
          "text": [
            "Train: Loss=0.0569 Batch_id=937 Accuracy=96.53: 100%|██████████| 938/938 [00:55<00:00, 16.85it/s]\n"
          ]
        },
        {
          "output_type": "stream",
          "name": "stdout",
          "text": [
            "Test set: Average loss: 0.0003, Accuracy: 9939/10000 (99.39%)\n",
            "\n",
            "Learning Rate after epoch 9: 0.075\n",
            "Epoch 10\n"
          ]
        },
        {
          "output_type": "stream",
          "name": "stderr",
          "text": [
            "Train: Loss=0.1766 Batch_id=937 Accuracy=96.68: 100%|██████████| 938/938 [00:54<00:00, 17.32it/s]\n"
          ]
        },
        {
          "output_type": "stream",
          "name": "stdout",
          "text": [
            "Test set: Average loss: 0.0003, Accuracy: 9944/10000 (99.44%)\n",
            "\n",
            "Learning Rate after epoch 10: 0.0375\n",
            "Epoch 11\n"
          ]
        },
        {
          "output_type": "stream",
          "name": "stderr",
          "text": [
            "Train: Loss=0.0945 Batch_id=937 Accuracy=96.79: 100%|██████████| 938/938 [00:53<00:00, 17.47it/s]\n"
          ]
        },
        {
          "output_type": "stream",
          "name": "stdout",
          "text": [
            "Test set: Average loss: 0.0003, Accuracy: 9941/10000 (99.41%)\n",
            "\n",
            "Learning Rate after epoch 11: 0.0375\n",
            "Epoch 12\n"
          ]
        },
        {
          "output_type": "stream",
          "name": "stderr",
          "text": [
            "Train: Loss=0.0179 Batch_id=937 Accuracy=96.87: 100%|██████████| 938/938 [00:55<00:00, 16.88it/s]\n"
          ]
        },
        {
          "output_type": "stream",
          "name": "stdout",
          "text": [
            "Test set: Average loss: 0.0004, Accuracy: 9930/10000 (99.30%)\n",
            "\n",
            "Learning Rate after epoch 12: 0.0375\n",
            "Epoch 13\n"
          ]
        },
        {
          "output_type": "stream",
          "name": "stderr",
          "text": [
            "Train: Loss=0.0796 Batch_id=937 Accuracy=96.84: 100%|██████████| 938/938 [00:54<00:00, 17.37it/s]\n"
          ]
        },
        {
          "output_type": "stream",
          "name": "stdout",
          "text": [
            "Test set: Average loss: 0.0003, Accuracy: 9941/10000 (99.41%)\n",
            "\n",
            "Learning Rate after epoch 13: 0.0375\n",
            "Epoch 14\n"
          ]
        },
        {
          "output_type": "stream",
          "name": "stderr",
          "text": [
            "Train: Loss=0.1719 Batch_id=937 Accuracy=96.83: 100%|██████████| 938/938 [00:53<00:00, 17.44it/s]\n"
          ]
        },
        {
          "output_type": "stream",
          "name": "stdout",
          "text": [
            "Test set: Average loss: 0.0003, Accuracy: 9939/10000 (99.39%)\n",
            "\n",
            "Learning Rate after epoch 14: 0.0375\n",
            "Epoch 15\n"
          ]
        },
        {
          "output_type": "stream",
          "name": "stderr",
          "text": [
            "Train: Loss=0.0231 Batch_id=937 Accuracy=96.98: 100%|██████████| 938/938 [00:55<00:00, 16.85it/s]\n"
          ]
        },
        {
          "output_type": "stream",
          "name": "stdout",
          "text": [
            "Test set: Average loss: 0.0003, Accuracy: 9937/10000 (99.37%)\n",
            "\n",
            "Learning Rate after epoch 15: 0.01875\n",
            "Epoch 16\n"
          ]
        },
        {
          "output_type": "stream",
          "name": "stderr",
          "text": [
            "Train: Loss=0.0204 Batch_id=937 Accuracy=96.95: 100%|██████████| 938/938 [00:53<00:00, 17.41it/s]\n"
          ]
        },
        {
          "output_type": "stream",
          "name": "stdout",
          "text": [
            "Test set: Average loss: 0.0003, Accuracy: 9941/10000 (99.41%)\n",
            "\n",
            "Learning Rate after epoch 16: 0.01875\n",
            "Epoch 17\n"
          ]
        },
        {
          "output_type": "stream",
          "name": "stderr",
          "text": [
            "Train: Loss=0.0620 Batch_id=937 Accuracy=96.94: 100%|██████████| 938/938 [00:54<00:00, 17.37it/s]\n"
          ]
        },
        {
          "output_type": "stream",
          "name": "stdout",
          "text": [
            "Test set: Average loss: 0.0003, Accuracy: 9943/10000 (99.43%)\n",
            "\n",
            "Learning Rate after epoch 17: 0.01875\n",
            "Epoch 18\n"
          ]
        },
        {
          "output_type": "stream",
          "name": "stderr",
          "text": [
            "Train: Loss=0.0332 Batch_id=937 Accuracy=97.00: 100%|██████████| 938/938 [00:54<00:00, 17.06it/s]\n"
          ]
        },
        {
          "output_type": "stream",
          "name": "stdout",
          "text": [
            "Test set: Average loss: 0.0003, Accuracy: 9941/10000 (99.41%)\n",
            "\n",
            "Learning Rate after epoch 18: 0.01875\n",
            "Epoch 19\n"
          ]
        },
        {
          "output_type": "stream",
          "name": "stderr",
          "text": [
            "Train: Loss=0.1469 Batch_id=937 Accuracy=96.98: 100%|██████████| 938/938 [00:54<00:00, 17.36it/s]\n"
          ]
        },
        {
          "output_type": "stream",
          "name": "stdout",
          "text": [
            "Test set: Average loss: 0.0003, Accuracy: 9948/10000 (99.48%)\n",
            "\n",
            "Learning Rate after epoch 19: 0.01875\n",
            "Epoch 20\n"
          ]
        },
        {
          "output_type": "stream",
          "name": "stderr",
          "text": [
            "Train: Loss=0.0965 Batch_id=937 Accuracy=96.94: 100%|██████████| 938/938 [00:53<00:00, 17.44it/s]\n"
          ]
        },
        {
          "output_type": "stream",
          "name": "stdout",
          "text": [
            "Test set: Average loss: 0.0003, Accuracy: 9937/10000 (99.37%)\n",
            "\n",
            "Learning Rate after epoch 20: 0.009375\n"
          ]
        }
      ]
    },
    {
      "cell_type": "code",
      "source": [],
      "metadata": {
        "id": "Ze6NjLwogFhE"
      },
      "execution_count": null,
      "outputs": []
    }
  ]
}